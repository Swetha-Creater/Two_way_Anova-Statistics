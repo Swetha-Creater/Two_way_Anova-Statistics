{
 "cells": [
  {
   "cell_type": "code",
   "execution_count": 3,
   "id": "6e2625ef-1b74-45ac-8db1-416e57f2df15",
   "metadata": {},
   "outputs": [],
   "source": [
    "import pandas as pd\n",
    "from scipy import stats\n",
    "import matplotlib.pyplot as plt\n",
    "import statsmodels.api as sm\n",
    "from statsmodels.formula.api import ols"
   ]
  },
  {
   "cell_type": "markdown",
   "id": "26fe4bc3-1908-4735-be21-9e4659a474a1",
   "metadata": {},
   "source": [
    "# Read the data"
   ]
  },
  {
   "cell_type": "code",
   "execution_count": 40,
   "id": "609367bb-bc22-4dc9-be13-2b8b04997f01",
   "metadata": {},
   "outputs": [
    {
     "data": {
      "text/html": [
       "<div>\n",
       "<style scoped>\n",
       "    .dataframe tbody tr th:only-of-type {\n",
       "        vertical-align: middle;\n",
       "    }\n",
       "\n",
       "    .dataframe tbody tr th {\n",
       "        vertical-align: top;\n",
       "    }\n",
       "\n",
       "    .dataframe thead th {\n",
       "        text-align: right;\n",
       "    }\n",
       "</style>\n",
       "<table border=\"1\" class=\"dataframe\">\n",
       "  <thead>\n",
       "    <tr style=\"text-align: right;\">\n",
       "      <th></th>\n",
       "      <th>Department</th>\n",
       "      <th>Experience Level</th>\n",
       "      <th>Productivity Score</th>\n",
       "    </tr>\n",
       "  </thead>\n",
       "  <tbody>\n",
       "    <tr>\n",
       "      <th>34</th>\n",
       "      <td>Marketing</td>\n",
       "      <td>Junior</td>\n",
       "      <td>71</td>\n",
       "    </tr>\n",
       "  </tbody>\n",
       "</table>\n",
       "</div>"
      ],
      "text/plain": [
       "   Department Experience Level  Productivity Score\n",
       "34  Marketing           Junior                  71"
      ]
     },
     "execution_count": 40,
     "metadata": {},
     "output_type": "execute_result"
    }
   ],
   "source": [
    "df = pd.read_excel('Two way anova dataset.xlsx')\n",
    "df.sample()"
   ]
  },
  {
   "cell_type": "code",
   "execution_count": 42,
   "id": "0114feff-10f6-466d-b35b-93fa78775fe3",
   "metadata": {},
   "outputs": [
    {
     "data": {
      "text/html": [
       "<div>\n",
       "<style scoped>\n",
       "    .dataframe tbody tr th:only-of-type {\n",
       "        vertical-align: middle;\n",
       "    }\n",
       "\n",
       "    .dataframe tbody tr th {\n",
       "        vertical-align: top;\n",
       "    }\n",
       "\n",
       "    .dataframe thead th {\n",
       "        text-align: right;\n",
       "    }\n",
       "</style>\n",
       "<table border=\"1\" class=\"dataframe\">\n",
       "  <thead>\n",
       "    <tr style=\"text-align: right;\">\n",
       "      <th></th>\n",
       "      <th></th>\n",
       "      <th>Productivity Score</th>\n",
       "    </tr>\n",
       "    <tr>\n",
       "      <th>Department</th>\n",
       "      <th>Experience Level</th>\n",
       "      <th></th>\n",
       "    </tr>\n",
       "  </thead>\n",
       "  <tbody>\n",
       "    <tr>\n",
       "      <th rowspan=\"3\" valign=\"top\">HR</th>\n",
       "      <th>Junior</th>\n",
       "      <td>64.500</td>\n",
       "    </tr>\n",
       "    <tr>\n",
       "      <th>Mid-Level</th>\n",
       "      <td>77.500</td>\n",
       "    </tr>\n",
       "    <tr>\n",
       "      <th>Senior</th>\n",
       "      <td>86.250</td>\n",
       "    </tr>\n",
       "    <tr>\n",
       "      <th rowspan=\"3\" valign=\"top\">IT</th>\n",
       "      <th>Junior</th>\n",
       "      <td>66.000</td>\n",
       "    </tr>\n",
       "    <tr>\n",
       "      <th>Mid-Level</th>\n",
       "      <td>70.625</td>\n",
       "    </tr>\n",
       "    <tr>\n",
       "      <th>Senior</th>\n",
       "      <td>84.875</td>\n",
       "    </tr>\n",
       "    <tr>\n",
       "      <th rowspan=\"3\" valign=\"top\">Marketing</th>\n",
       "      <th>Junior</th>\n",
       "      <td>68.500</td>\n",
       "    </tr>\n",
       "    <tr>\n",
       "      <th>Mid-Level</th>\n",
       "      <td>80.250</td>\n",
       "    </tr>\n",
       "    <tr>\n",
       "      <th>Senior</th>\n",
       "      <td>88.250</td>\n",
       "    </tr>\n",
       "    <tr>\n",
       "      <th rowspan=\"3\" valign=\"top\">Sales</th>\n",
       "      <th>Junior</th>\n",
       "      <td>80.625</td>\n",
       "    </tr>\n",
       "    <tr>\n",
       "      <th>Mid-Level</th>\n",
       "      <td>90.375</td>\n",
       "    </tr>\n",
       "    <tr>\n",
       "      <th>Senior</th>\n",
       "      <td>93.500</td>\n",
       "    </tr>\n",
       "  </tbody>\n",
       "</table>\n",
       "</div>"
      ],
      "text/plain": [
       "                             Productivity Score\n",
       "Department Experience Level                    \n",
       "HR         Junior                        64.500\n",
       "           Mid-Level                     77.500\n",
       "           Senior                        86.250\n",
       "IT         Junior                        66.000\n",
       "           Mid-Level                     70.625\n",
       "           Senior                        84.875\n",
       "Marketing  Junior                        68.500\n",
       "           Mid-Level                     80.250\n",
       "           Senior                        88.250\n",
       "Sales      Junior                        80.625\n",
       "           Mid-Level                     90.375\n",
       "           Senior                        93.500"
      ]
     },
     "execution_count": 42,
     "metadata": {},
     "output_type": "execute_result"
    }
   ],
   "source": [
    "df1 = df.groupby([\"Department\",\"Experience Level\"])[\"Productivity Score\"].mean()\n",
    "df1 = pd.DataFrame(df1)\n",
    "df1"
   ]
  },
  {
   "cell_type": "code",
   "execution_count": 44,
   "id": "c2e5c461-c0f1-4fd0-87d6-c1a34ec0665a",
   "metadata": {},
   "outputs": [
    {
     "data": {
      "text/html": [
       "<div>\n",
       "<style scoped>\n",
       "    .dataframe tbody tr th:only-of-type {\n",
       "        vertical-align: middle;\n",
       "    }\n",
       "\n",
       "    .dataframe tbody tr th {\n",
       "        vertical-align: top;\n",
       "    }\n",
       "\n",
       "    .dataframe thead th {\n",
       "        text-align: right;\n",
       "    }\n",
       "</style>\n",
       "<table border=\"1\" class=\"dataframe\">\n",
       "  <thead>\n",
       "    <tr style=\"text-align: right;\">\n",
       "      <th></th>\n",
       "      <th>Department</th>\n",
       "      <th>Experience_Level</th>\n",
       "      <th>Productivity_Score</th>\n",
       "    </tr>\n",
       "  </thead>\n",
       "  <tbody>\n",
       "    <tr>\n",
       "      <th>91</th>\n",
       "      <td>HR</td>\n",
       "      <td>Senior</td>\n",
       "      <td>90</td>\n",
       "    </tr>\n",
       "    <tr>\n",
       "      <th>92</th>\n",
       "      <td>Sales</td>\n",
       "      <td>Mid-Level</td>\n",
       "      <td>94</td>\n",
       "    </tr>\n",
       "    <tr>\n",
       "      <th>93</th>\n",
       "      <td>IT</td>\n",
       "      <td>Senior</td>\n",
       "      <td>89</td>\n",
       "    </tr>\n",
       "    <tr>\n",
       "      <th>94</th>\n",
       "      <td>Marketing</td>\n",
       "      <td>Junior</td>\n",
       "      <td>65</td>\n",
       "    </tr>\n",
       "    <tr>\n",
       "      <th>95</th>\n",
       "      <td>HR</td>\n",
       "      <td>Mid-Level</td>\n",
       "      <td>81</td>\n",
       "    </tr>\n",
       "  </tbody>\n",
       "</table>\n",
       "</div>"
      ],
      "text/plain": [
       "   Department Experience_Level  Productivity_Score\n",
       "91         HR           Senior                  90\n",
       "92      Sales        Mid-Level                  94\n",
       "93         IT           Senior                  89\n",
       "94  Marketing           Junior                  65\n",
       "95         HR        Mid-Level                  81"
      ]
     },
     "execution_count": 44,
     "metadata": {},
     "output_type": "execute_result"
    }
   ],
   "source": [
    "df.rename(columns={'Experience Level' : 'Experience_Level',\n",
    "           'Productivity Score' : 'Productivity_Score'},inplace=True)\n",
    "df.tail()"
   ]
  },
  {
   "cell_type": "markdown",
   "id": "b0b7c29c-cd2d-4473-8bf8-626b60a1930a",
   "metadata": {},
   "source": [
    "# Two way Anova"
   ]
  },
  {
   "cell_type": "markdown",
   "id": "edf88af2-0c26-474c-beed-4cda4fc7e9e7",
   "metadata": {},
   "source": [
    "#### Checking whether Department has impact on productivity_score of employee.\n",
    "Factor 1: Department (4 dept: HR,Sales,IT,Marketing)"
   ]
  },
  {
   "cell_type": "code",
   "execution_count": null,
   "id": "eecbb8cc-8acb-46a0-a737-88f7feac1acc",
   "metadata": {},
   "outputs": [],
   "source": []
  },
  {
   "cell_type": "markdown",
   "id": "c8546f8c-e22b-44cf-b052-0007a901bf1d",
   "metadata": {},
   "source": [
    "##### H0 - There is no significant difference in productivity scores across different departments.\n",
    "##### H1 - There is a significant difference in productivity scores across different departments."
   ]
  },
  {
   "cell_type": "code",
   "execution_count": 48,
   "id": "dd928531-6d35-4b5b-8869-fef97208d20c",
   "metadata": {},
   "outputs": [
    {
     "data": {
      "text/html": [
       "<div>\n",
       "<style scoped>\n",
       "    .dataframe tbody tr th:only-of-type {\n",
       "        vertical-align: middle;\n",
       "    }\n",
       "\n",
       "    .dataframe tbody tr th {\n",
       "        vertical-align: top;\n",
       "    }\n",
       "\n",
       "    .dataframe thead th {\n",
       "        text-align: right;\n",
       "    }\n",
       "</style>\n",
       "<table border=\"1\" class=\"dataframe\">\n",
       "  <thead>\n",
       "    <tr style=\"text-align: right;\">\n",
       "      <th></th>\n",
       "      <th>sum_sq</th>\n",
       "      <th>df</th>\n",
       "      <th>F</th>\n",
       "      <th>PR(&gt;F)</th>\n",
       "    </tr>\n",
       "  </thead>\n",
       "  <tbody>\n",
       "    <tr>\n",
       "      <th>C(Department)</th>\n",
       "      <td>2854.458333</td>\n",
       "      <td>3.0</td>\n",
       "      <td>13.416618</td>\n",
       "      <td>2.450747e-07</td>\n",
       "    </tr>\n",
       "    <tr>\n",
       "      <th>Residual</th>\n",
       "      <td>6524.500000</td>\n",
       "      <td>92.0</td>\n",
       "      <td>NaN</td>\n",
       "      <td>NaN</td>\n",
       "    </tr>\n",
       "  </tbody>\n",
       "</table>\n",
       "</div>"
      ],
      "text/plain": [
       "                    sum_sq    df          F        PR(>F)\n",
       "C(Department)  2854.458333   3.0  13.416618  2.450747e-07\n",
       "Residual       6524.500000  92.0        NaN           NaN"
      ]
     },
     "execution_count": 48,
     "metadata": {},
     "output_type": "execute_result"
    }
   ],
   "source": [
    "model = ols ('Productivity_Score ~ C(Department)',data=df).fit()\n",
    "annova_table = sm.stats.anova_lm(model,typ = 2)\n",
    "annova_table"
   ]
  },
  {
   "cell_type": "raw",
   "id": "a7358fee-89e9-4a56-a832-fd5d2a0e43f6",
   "metadata": {},
   "source": [
    "P_value is less than 0.05(significance)"
   ]
  },
  {
   "cell_type": "markdown",
   "id": "4a7192d6-203b-41c9-b97d-09b4d941fcd3",
   "metadata": {},
   "source": [
    "#### Checking whether Experience_Level has impact on productivity_score of employee.\n",
    "Factor 2: Experience Level (3 levels: Junior, Mid-Level, Senior)"
   ]
  },
  {
   "cell_type": "markdown",
   "id": "d770f295-c64f-46bd-8101-b4ff381509fa",
   "metadata": {},
   "source": [
    "##### H0 - There is no significant difference in productivity scores across different Experience Level.\n",
    "##### H1 - There is a significant difference in productivity scores across different Experience Level."
   ]
  },
  {
   "cell_type": "code",
   "execution_count": 52,
   "id": "d7fad7a5-abe1-4e87-b6e8-89fb103f5b41",
   "metadata": {},
   "outputs": [
    {
     "data": {
      "text/html": [
       "<div>\n",
       "<style scoped>\n",
       "    .dataframe tbody tr th:only-of-type {\n",
       "        vertical-align: middle;\n",
       "    }\n",
       "\n",
       "    .dataframe tbody tr th {\n",
       "        vertical-align: top;\n",
       "    }\n",
       "\n",
       "    .dataframe thead th {\n",
       "        text-align: right;\n",
       "    }\n",
       "</style>\n",
       "<table border=\"1\" class=\"dataframe\">\n",
       "  <thead>\n",
       "    <tr style=\"text-align: right;\">\n",
       "      <th></th>\n",
       "      <th>sum_sq</th>\n",
       "      <th>df</th>\n",
       "      <th>F</th>\n",
       "      <th>PR(&gt;F)</th>\n",
       "    </tr>\n",
       "  </thead>\n",
       "  <tbody>\n",
       "    <tr>\n",
       "      <th>C(Experience_Level)</th>\n",
       "      <td>5373.895833</td>\n",
       "      <td>2.0</td>\n",
       "      <td>62.392573</td>\n",
       "      <td>6.548520e-18</td>\n",
       "    </tr>\n",
       "    <tr>\n",
       "      <th>Residual</th>\n",
       "      <td>4005.062500</td>\n",
       "      <td>93.0</td>\n",
       "      <td>NaN</td>\n",
       "      <td>NaN</td>\n",
       "    </tr>\n",
       "  </tbody>\n",
       "</table>\n",
       "</div>"
      ],
      "text/plain": [
       "                          sum_sq    df          F        PR(>F)\n",
       "C(Experience_Level)  5373.895833   2.0  62.392573  6.548520e-18\n",
       "Residual             4005.062500  93.0        NaN           NaN"
      ]
     },
     "execution_count": 52,
     "metadata": {},
     "output_type": "execute_result"
    }
   ],
   "source": [
    "model1 = ols('Productivity_Score ~ C(Experience_Level)',data=df).fit()\n",
    "annova_table1 = sm.stats.anova_lm(model1,typ=2)\n",
    "annova_table1"
   ]
  },
  {
   "cell_type": "code",
   "execution_count": null,
   "id": "253b9918-b08a-4822-a987-e1a7e11ba8ab",
   "metadata": {},
   "outputs": [],
   "source": []
  },
  {
   "cell_type": "markdown",
   "id": "10a9e958-9e2b-44f6-85fa-196f80ed8812",
   "metadata": {},
   "source": [
    "### The interaction between the two factors whether the effect of one factor depends on the other. "
   ]
  },
  {
   "cell_type": "markdown",
   "id": "2cc5a37e-c50a-48e0-b698-05124236df93",
   "metadata": {},
   "source": [
    "##### H0 : There is no interaction effect between department and experience level on productivity scores.\n",
    "##### H1: There is an interaction effect between department and experience level on productivity scores."
   ]
  },
  {
   "cell_type": "code",
   "execution_count": 55,
   "id": "f28a80ee-2d9e-4708-a92a-1b8da9d7f114",
   "metadata": {},
   "outputs": [
    {
     "data": {
      "text/html": [
       "<div>\n",
       "<style scoped>\n",
       "    .dataframe tbody tr th:only-of-type {\n",
       "        vertical-align: middle;\n",
       "    }\n",
       "\n",
       "    .dataframe tbody tr th {\n",
       "        vertical-align: top;\n",
       "    }\n",
       "\n",
       "    .dataframe thead th {\n",
       "        text-align: right;\n",
       "    }\n",
       "</style>\n",
       "<table border=\"1\" class=\"dataframe\">\n",
       "  <thead>\n",
       "    <tr style=\"text-align: right;\">\n",
       "      <th></th>\n",
       "      <th>sum_sq</th>\n",
       "      <th>df</th>\n",
       "      <th>F</th>\n",
       "      <th>PR(&gt;F)</th>\n",
       "    </tr>\n",
       "  </thead>\n",
       "  <tbody>\n",
       "    <tr>\n",
       "      <th>C(Department):C(Experience_Level)</th>\n",
       "      <td>8619.958333</td>\n",
       "      <td>11.0</td>\n",
       "      <td>86.726135</td>\n",
       "      <td>4.871680e-41</td>\n",
       "    </tr>\n",
       "    <tr>\n",
       "      <th>Residual</th>\n",
       "      <td>759.000000</td>\n",
       "      <td>84.0</td>\n",
       "      <td>NaN</td>\n",
       "      <td>NaN</td>\n",
       "    </tr>\n",
       "  </tbody>\n",
       "</table>\n",
       "</div>"
      ],
      "text/plain": [
       "                                        sum_sq    df          F        PR(>F)\n",
       "C(Department):C(Experience_Level)  8619.958333  11.0  86.726135  4.871680e-41\n",
       "Residual                            759.000000  84.0        NaN           NaN"
      ]
     },
     "execution_count": 55,
     "metadata": {},
     "output_type": "execute_result"
    }
   ],
   "source": [
    "model2 = ols('Productivity_Score ~ C(Department):C(Experience_Level)',data=df).fit()\n",
    "annova_table3 = sm.stats.anova_lm(model2,typ=2)\n",
    "annova_table3"
   ]
  },
  {
   "cell_type": "code",
   "execution_count": 57,
   "id": "21d52c87-4ca7-4789-8f37-844354cc3c6d",
   "metadata": {},
   "outputs": [
    {
     "data": {
      "text/html": [
       "<div>\n",
       "<style scoped>\n",
       "    .dataframe tbody tr th:only-of-type {\n",
       "        vertical-align: middle;\n",
       "    }\n",
       "\n",
       "    .dataframe tbody tr th {\n",
       "        vertical-align: top;\n",
       "    }\n",
       "\n",
       "    .dataframe thead th {\n",
       "        text-align: right;\n",
       "    }\n",
       "</style>\n",
       "<table border=\"1\" class=\"dataframe\">\n",
       "  <thead>\n",
       "    <tr style=\"text-align: right;\">\n",
       "      <th></th>\n",
       "      <th>sum_sq</th>\n",
       "      <th>df</th>\n",
       "      <th>F</th>\n",
       "      <th>PR(&gt;F)</th>\n",
       "    </tr>\n",
       "  </thead>\n",
       "  <tbody>\n",
       "    <tr>\n",
       "      <th>C(Department)</th>\n",
       "      <td>2854.458333</td>\n",
       "      <td>3.0</td>\n",
       "      <td>105.302811</td>\n",
       "      <td>2.266994e-28</td>\n",
       "    </tr>\n",
       "    <tr>\n",
       "      <th>C(Experience_Level)</th>\n",
       "      <td>5373.895833</td>\n",
       "      <td>2.0</td>\n",
       "      <td>297.369730</td>\n",
       "      <td>7.730363e-39</td>\n",
       "    </tr>\n",
       "    <tr>\n",
       "      <th>C(Department):C(Experience_Level)</th>\n",
       "      <td>391.604167</td>\n",
       "      <td>6.0</td>\n",
       "      <td>7.223265</td>\n",
       "      <td>3.090747e-06</td>\n",
       "    </tr>\n",
       "    <tr>\n",
       "      <th>Residual</th>\n",
       "      <td>759.000000</td>\n",
       "      <td>84.0</td>\n",
       "      <td>NaN</td>\n",
       "      <td>NaN</td>\n",
       "    </tr>\n",
       "  </tbody>\n",
       "</table>\n",
       "</div>"
      ],
      "text/plain": [
       "                                        sum_sq    df           F        PR(>F)\n",
       "C(Department)                      2854.458333   3.0  105.302811  2.266994e-28\n",
       "C(Experience_Level)                5373.895833   2.0  297.369730  7.730363e-39\n",
       "C(Department):C(Experience_Level)   391.604167   6.0    7.223265  3.090747e-06\n",
       "Residual                            759.000000  84.0         NaN           NaN"
      ]
     },
     "execution_count": 57,
     "metadata": {},
     "output_type": "execute_result"
    }
   ],
   "source": [
    "model3 = ols('Productivity_Score ~ C(Department)+ C(Experience_Level)+C(Department):C(Experience_Level)',data=df).fit()\n",
    "annova_table4 = sm.stats.anova_lm(model3,typ=2)\n",
    "annova_table4"
   ]
  },
  {
   "cell_type": "markdown",
   "id": "78286e4e-b91f-4712-ad9f-94a3a6ae180d",
   "metadata": {},
   "source": [
    "### Both Department and Experience Level have significant effects on the productivity score .\n",
    "### Additionally, the significant interaction effect suggests that the relationship between Department and \n",
    "### the productivity score varies depending on the Experience Level."
   ]
  },
  {
   "cell_type": "markdown",
   "id": "1329cc10-aee0-439c-98be-7a3e3b59a508",
   "metadata": {},
   "source": [
    "# Finding redisuals"
   ]
  },
  {
   "cell_type": "code",
   "execution_count": 60,
   "id": "044ba88d-ce9b-4ef6-9920-df39596d7f2f",
   "metadata": {},
   "outputs": [],
   "source": [
    "residuals = model3.resid"
   ]
  },
  {
   "cell_type": "code",
   "execution_count": 62,
   "id": "b9df363b-34c9-457e-94e2-efe0212c0f30",
   "metadata": {},
   "outputs": [
    {
     "data": {
      "image/png": "[encoded data removed]",
      "text/plain": [
       "<Figure size 640x480 with 1 Axes>"
      ]
     },
     "metadata": {},
     "output_type": "display_data"
    }
   ],
   "source": [
    "from statsmodels.graphics.gofplots import qqplot\n",
    "qqplot(residuals, line='s')\n",
    "plt.show()"
   ]
  },
  {
   "cell_type": "code",
   "execution_count": 64,
   "id": "eb88d273-9543-43b6-98f2-58b5b56674eb",
   "metadata": {},
   "outputs": [
    {
     "name": "stdout",
     "output_type": "stream",
     "text": [
      "Shapiro-Wilk Test p-value: 0.06416124012466147\n"
     ]
    }
   ],
   "source": [
    "shapiro_test = stats.shapiro(residuals)\n",
    "print(f'Shapiro-Wilk Test p-value: {shapiro_test.pvalue}')"
   ]
  },
  {
   "cell_type": "code",
   "execution_count": 68,
   "id": "330f3dec-30d7-4268-b4cc-eeed42645676",
   "metadata": {},
   "outputs": [],
   "source": [
    "from scipy.stats import levene"
   ]
  },
  {
   "cell_type": "code",
   "execution_count": 70,
   "id": "b635a4ce-ad44-4f1e-9a73-03494f47ca54",
   "metadata": {},
   "outputs": [
    {
     "name": "stdout",
     "output_type": "stream",
     "text": [
      "LeveneResult(statistic=1.7893221388014318, pvalue=0.15469193820700664) LeveneResult(statistic=4.211741723216121, pvalue=0.017742540650263337)\n"
     ]
    }
   ],
   "source": [
    "levene_test1 = stats.levene(df[df['Department'] == 'HR']['Productivity_Score'],\n",
    "                           df[df['Department'] == 'IT']['Productivity_Score'],\n",
    "                           df[df['Department'] == 'Marketing']['Productivity_Score'],\n",
    "                           df[df['Department'] == 'Sales']['Productivity_Score'])\n",
    "\n",
    "levene_test2 = stats.levene(df[df['Experience_Level'] == 'Junior']['Productivity_Score'],\n",
    "                           df[df['Experience_Level'] == 'Mid-Level']['Productivity_Score'],\n",
    "                           df[df['Experience_Level'] == 'Senior']['Productivity_Score'])\n",
    "#stat, p_value = levene(levene_test1, levene_test2)\n",
    "print(levene_test1, levene_test2)"
   ]
  },
  {
   "cell_type": "code",
   "execution_count": null,
   "id": "02b43e47-efda-40e3-b29d-a611bee9ebfa",
   "metadata": {},
   "outputs": [],
   "source": []
  }
 ],
 "metadata": {
  "kernelspec": {
   "display_name": "Python 3 (ipykernel)",
   "language": "python",
   "name": "python3"
  },
  "language_info": {
   "codemirror_mode": {
    "name": "ipython",
    "version": 3
   },
   "file_extension": ".py",
   "mimetype": "text/x-python",
   "name": "python",
   "nbconvert_exporter": "python",
   "pygments_lexer": "ipython3",
   "version": "3.12.4"
  }
 },
 "nbformat": 4,
 "nbformat_minor": 5
}
