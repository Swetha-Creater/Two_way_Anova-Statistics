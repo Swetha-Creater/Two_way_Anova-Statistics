{
 "cells": [
  {
   "cell_type": "code",
   "execution_count": 1,
   "id": "6e2625ef-1b74-45ac-8db1-416e57f2df15",
   "metadata": {},
   "outputs": [],
   "source": [
    "import pandas as pd\n",
    "from scipy import stats\n",
    "import matplotlib.pyplot as plt\n",
    "import statsmodels.api as sm\n",
    "from statsmodels.formula.api import ols"
   ]
  },
  {
   "cell_type": "markdown",
   "id": "26fe4bc3-1908-4735-be21-9e4659a474a1",
   "metadata": {},
   "source": [
    "# Read the data"
   ]
  },
  {
   "cell_type": "code",
   "execution_count": 53,
   "id": "609367bb-bc22-4dc9-be13-2b8b04997f01",
   "metadata": {},
   "outputs": [
    {
     "data": {
      "text/html": [
       "<div>\n",
       "<style scoped>\n",
       "    .dataframe tbody tr th:only-of-type {\n",
       "        vertical-align: middle;\n",
       "    }\n",
       "\n",
       "    .dataframe tbody tr th {\n",
       "        vertical-align: top;\n",
       "    }\n",
       "\n",
       "    .dataframe thead th {\n",
       "        text-align: right;\n",
       "    }\n",
       "</style>\n",
       "<table border=\"1\" class=\"dataframe\">\n",
       "  <thead>\n",
       "    <tr style=\"text-align: right;\">\n",
       "      <th></th>\n",
       "      <th>Department</th>\n",
       "      <th>Experience Level</th>\n",
       "      <th>Productivity Score</th>\n",
       "    </tr>\n",
       "  </thead>\n",
       "  <tbody>\n",
       "    <tr>\n",
       "      <th>0</th>\n",
       "      <td>Sales</td>\n",
       "      <td>Junior</td>\n",
       "      <td>78</td>\n",
       "    </tr>\n",
       "    <tr>\n",
       "      <th>1</th>\n",
       "      <td>Marketing</td>\n",
       "      <td>Senior</td>\n",
       "      <td>85</td>\n",
       "    </tr>\n",
       "    <tr>\n",
       "      <th>2</th>\n",
       "      <td>IT</td>\n",
       "      <td>Mid-Level</td>\n",
       "      <td>74</td>\n",
       "    </tr>\n",
       "    <tr>\n",
       "      <th>3</th>\n",
       "      <td>HR</td>\n",
       "      <td>Junior</td>\n",
       "      <td>65</td>\n",
       "    </tr>\n",
       "    <tr>\n",
       "      <th>4</th>\n",
       "      <td>Sales</td>\n",
       "      <td>Senior</td>\n",
       "      <td>90</td>\n",
       "    </tr>\n",
       "  </tbody>\n",
       "</table>\n",
       "</div>"
      ],
      "text/plain": [
       "  Department Experience Level  Productivity Score\n",
       "0      Sales           Junior                  78\n",
       "1  Marketing           Senior                  85\n",
       "2         IT        Mid-Level                  74\n",
       "3         HR           Junior                  65\n",
       "4      Sales           Senior                  90"
      ]
     },
     "execution_count": 53,
     "metadata": {},
     "output_type": "execute_result"
    }
   ],
   "source": [
    "df = pd.read_excel('Two way anova dataset.xlsx')\n",
    "df.head()"
   ]
  },
  {
   "cell_type": "code",
   "execution_count": 4,
   "id": "0114feff-10f6-466d-b35b-93fa78775fe3",
   "metadata": {},
   "outputs": [
    {
     "data": {
      "text/html": [
       "<div>\n",
       "<style scoped>\n",
       "    .dataframe tbody tr th:only-of-type {\n",
       "        vertical-align: middle;\n",
       "    }\n",
       "\n",
       "    .dataframe tbody tr th {\n",
       "        vertical-align: top;\n",
       "    }\n",
       "\n",
       "    .dataframe thead th {\n",
       "        text-align: right;\n",
       "    }\n",
       "</style>\n",
       "<table border=\"1\" class=\"dataframe\">\n",
       "  <thead>\n",
       "    <tr style=\"text-align: right;\">\n",
       "      <th></th>\n",
       "      <th></th>\n",
       "      <th>Productivity Score</th>\n",
       "    </tr>\n",
       "    <tr>\n",
       "      <th>Department</th>\n",
       "      <th>Experience Level</th>\n",
       "      <th></th>\n",
       "    </tr>\n",
       "  </thead>\n",
       "  <tbody>\n",
       "    <tr>\n",
       "      <th rowspan=\"3\" valign=\"top\">HR</th>\n",
       "      <th>Junior</th>\n",
       "      <td>64.500</td>\n",
       "    </tr>\n",
       "    <tr>\n",
       "      <th>Mid-Level</th>\n",
       "      <td>77.500</td>\n",
       "    </tr>\n",
       "    <tr>\n",
       "      <th>Senior</th>\n",
       "      <td>86.250</td>\n",
       "    </tr>\n",
       "    <tr>\n",
       "      <th rowspan=\"3\" valign=\"top\">IT</th>\n",
       "      <th>Junior</th>\n",
       "      <td>66.000</td>\n",
       "    </tr>\n",
       "    <tr>\n",
       "      <th>Mid-Level</th>\n",
       "      <td>70.625</td>\n",
       "    </tr>\n",
       "    <tr>\n",
       "      <th>Senior</th>\n",
       "      <td>84.875</td>\n",
       "    </tr>\n",
       "    <tr>\n",
       "      <th rowspan=\"3\" valign=\"top\">Marketing</th>\n",
       "      <th>Junior</th>\n",
       "      <td>68.500</td>\n",
       "    </tr>\n",
       "    <tr>\n",
       "      <th>Mid-Level</th>\n",
       "      <td>80.250</td>\n",
       "    </tr>\n",
       "    <tr>\n",
       "      <th>Senior</th>\n",
       "      <td>88.250</td>\n",
       "    </tr>\n",
       "    <tr>\n",
       "      <th rowspan=\"3\" valign=\"top\">Sales</th>\n",
       "      <th>Junior</th>\n",
       "      <td>80.625</td>\n",
       "    </tr>\n",
       "    <tr>\n",
       "      <th>Mid-Level</th>\n",
       "      <td>90.375</td>\n",
       "    </tr>\n",
       "    <tr>\n",
       "      <th>Senior</th>\n",
       "      <td>93.500</td>\n",
       "    </tr>\n",
       "  </tbody>\n",
       "</table>\n",
       "</div>"
      ],
      "text/plain": [
       "                             Productivity Score\n",
       "Department Experience Level                    \n",
       "HR         Junior                        64.500\n",
       "           Mid-Level                     77.500\n",
       "           Senior                        86.250\n",
       "IT         Junior                        66.000\n",
       "           Mid-Level                     70.625\n",
       "           Senior                        84.875\n",
       "Marketing  Junior                        68.500\n",
       "           Mid-Level                     80.250\n",
       "           Senior                        88.250\n",
       "Sales      Junior                        80.625\n",
       "           Mid-Level                     90.375\n",
       "           Senior                        93.500"
      ]
     },
     "execution_count": 4,
     "metadata": {},
     "output_type": "execute_result"
    }
   ],
   "source": [
    "df1 = df.groupby([\"Department\",\"Experience Level\"])[\"Productivity Score\"].mean()\n",
    "df1 = pd.DataFrame(df1)\n",
    "df1"
   ]
  },
  {
   "cell_type": "code",
   "execution_count": 55,
   "id": "c2e5c461-c0f1-4fd0-87d6-c1a34ec0665a",
   "metadata": {},
   "outputs": [
    {
     "data": {
      "text/html": [
       "<div>\n",
       "<style scoped>\n",
       "    .dataframe tbody tr th:only-of-type {\n",
       "        vertical-align: middle;\n",
       "    }\n",
       "\n",
       "    .dataframe tbody tr th {\n",
       "        vertical-align: top;\n",
       "    }\n",
       "\n",
       "    .dataframe thead th {\n",
       "        text-align: right;\n",
       "    }\n",
       "</style>\n",
       "<table border=\"1\" class=\"dataframe\">\n",
       "  <thead>\n",
       "    <tr style=\"text-align: right;\">\n",
       "      <th></th>\n",
       "      <th>Department</th>\n",
       "      <th>Experience_Level</th>\n",
       "      <th>Productivity_Score</th>\n",
       "    </tr>\n",
       "  </thead>\n",
       "  <tbody>\n",
       "    <tr>\n",
       "      <th>91</th>\n",
       "      <td>HR</td>\n",
       "      <td>Senior</td>\n",
       "      <td>90</td>\n",
       "    </tr>\n",
       "    <tr>\n",
       "      <th>92</th>\n",
       "      <td>Sales</td>\n",
       "      <td>Mid-Level</td>\n",
       "      <td>94</td>\n",
       "    </tr>\n",
       "    <tr>\n",
       "      <th>93</th>\n",
       "      <td>IT</td>\n",
       "      <td>Senior</td>\n",
       "      <td>89</td>\n",
       "    </tr>\n",
       "    <tr>\n",
       "      <th>94</th>\n",
       "      <td>Marketing</td>\n",
       "      <td>Junior</td>\n",
       "      <td>65</td>\n",
       "    </tr>\n",
       "    <tr>\n",
       "      <th>95</th>\n",
       "      <td>HR</td>\n",
       "      <td>Mid-Level</td>\n",
       "      <td>81</td>\n",
       "    </tr>\n",
       "  </tbody>\n",
       "</table>\n",
       "</div>"
      ],
      "text/plain": [
       "   Department Experience_Level  Productivity_Score\n",
       "91         HR           Senior                  90\n",
       "92      Sales        Mid-Level                  94\n",
       "93         IT           Senior                  89\n",
       "94  Marketing           Junior                  65\n",
       "95         HR        Mid-Level                  81"
      ]
     },
     "execution_count": 55,
     "metadata": {},
     "output_type": "execute_result"
    }
   ],
   "source": [
    "## Renaming the column names\n",
    "df.rename(columns={'Experience Level' : 'Experience_Level',\n",
    "           'Productivity Score' : 'Productivity_Score'},inplace=True)\n",
    "df.tail()"
   ]
  },
  {
   "cell_type": "markdown",
   "id": "b0b7c29c-cd2d-4473-8bf8-626b60a1930a",
   "metadata": {},
   "source": [
    "# Two way Anova"
   ]
  },
  {
   "cell_type": "markdown",
   "id": "1329cc10-aee0-439c-98be-7a3e3b59a508",
   "metadata": {},
   "source": [
    "### Finding redisuals"
   ]
  },
  {
   "cell_type": "code",
   "execution_count": 66,
   "id": "e4de159e-2b3f-4b6a-839a-898af763630d",
   "metadata": {},
   "outputs": [],
   "source": [
    "residuals = model3.resid"
   ]
  },
  {
   "cell_type": "markdown",
   "id": "7f4699c7-439e-4d32-a72d-a69c955f0f7c",
   "metadata": {},
   "source": [
    "##  Validating Assumptions"
   ]
  },
  {
   "cell_type": "markdown",
   "id": "a62bd830-c51f-4ef6-a309-9dbedf4303c7",
   "metadata": {},
   "source": [
    "#### Q-Q plot "
   ]
  },
  {
   "cell_type": "code",
   "execution_count": 68,
   "id": "ad780d26-5125-4503-a642-383fb35099b9",
   "metadata": {},
   "outputs": [
    {
     "data": {
      "image/png": "[encoded data removed]",
      "text/plain": [
       "<Figure size 640x480 with 1 Axes>"
      ]
     },
     "metadata": {},
     "output_type": "display_data"
    }
   ],
   "source": [
    "from statsmodels.graphics.gofplots import qqplot\n",
    "qqplot(residuals, line='s')\n",
    "plt.show()"
   ]
  },
  {
   "cell_type": "markdown",
   "id": "935c4aef-11eb-4dbc-8a4c-5e0e1ff0d729",
   "metadata": {},
   "source": [
    "#### Shapiro Wilk's Test"
   ]
  },
  {
   "cell_type": "code",
   "execution_count": 72,
   "id": "4d881e82-3f74-4d65-b009-7ebc9a596cba",
   "metadata": {},
   "outputs": [
    {
     "name": "stdout",
     "output_type": "stream",
     "text": [
      "Shapiro-Wilk Test p-value: 0.06416124012466147\n"
     ]
    }
   ],
   "source": [
    "shapiro_test = stats.shapiro(residuals)\n",
    "print(f'Shapiro-Wilk Test p-value: {shapiro_test.pvalue}')"
   ]
  },
  {
   "cell_type": "markdown",
   "id": "3a66e63f-c9a2-48ce-8b39-585d367a6429",
   "metadata": {},
   "source": [
    "#### Levene's Test"
   ]
  },
  {
   "cell_type": "code",
   "execution_count": 80,
   "id": "984366c7-4661-40f8-9350-115ccbdf23d9",
   "metadata": {},
   "outputs": [],
   "source": [
    "from scipy.stats import levene"
   ]
  },
  {
   "cell_type": "code",
   "execution_count": 82,
   "id": "a71a46e9-1e0d-4391-83b7-49937cc9be50",
   "metadata": {},
   "outputs": [
    {
     "name": "stdout",
     "output_type": "stream",
     "text": [
      "LeveneResult(statistic=1.7893221388014318, pvalue=0.15469193820700664) LeveneResult(statistic=4.211741723216121, pvalue=0.017742540650263337)\n"
     ]
    }
   ],
   "source": [
    "levene_test1 = stats.levene(df[df['Department'] == 'HR']['Productivity_Score'],\n",
    "                           df[df['Department'] == 'IT']['Productivity_Score'],\n",
    "                           df[df['Department'] == 'Marketing']['Productivity_Score'],\n",
    "                           df[df['Department'] == 'Sales']['Productivity_Score'])\n",
    "\n",
    "levene_test2 = stats.levene(df[df['Experience_Level'] == 'Junior']['Productivity_Score'],\n",
    "                           df[df['Experience_Level'] == 'Mid-Level']['Productivity_Score'],\n",
    "                           df[df['Experience_Level'] == 'Senior']['Productivity_Score'])\n",
    "#stat, p_value = levene(levene_test1, levene_test2)\n",
    "print(levene_test1, levene_test2)"
   ]
  },
  {
   "cell_type": "raw",
   "id": "b363fb0d-3c7d-468e-a1a9-fd0e4c5537c8",
   "metadata": {},
   "source": [
    "Factor 1: Department (4 dept: HR,Sales,IT,Marketing)"
   ]
  },
  {
   "cell_type": "markdown",
   "id": "c8546f8c-e22b-44cf-b052-0007a901bf1d",
   "metadata": {},
   "source": [
    "##### H0 - There is no significant difference in mean of productivity scores between different departments.\n",
    "##### H1 - There is a significant difference in mean of productivity scores between different departments."
   ]
  },
  {
   "cell_type": "code",
   "execution_count": 9,
   "id": "dd928531-6d35-4b5b-8869-fef97208d20c",
   "metadata": {},
   "outputs": [
    {
     "data": {
      "text/html": [
       "<div>\n",
       "<style scoped>\n",
       "    .dataframe tbody tr th:only-of-type {\n",
       "        vertical-align: middle;\n",
       "    }\n",
       "\n",
       "    .dataframe tbody tr th {\n",
       "        vertical-align: top;\n",
       "    }\n",
       "\n",
       "    .dataframe thead th {\n",
       "        text-align: right;\n",
       "    }\n",
       "</style>\n",
       "<table border=\"1\" class=\"dataframe\">\n",
       "  <thead>\n",
       "    <tr style=\"text-align: right;\">\n",
       "      <th></th>\n",
       "      <th>df</th>\n",
       "      <th>sum_sq</th>\n",
       "      <th>mean_sq</th>\n",
       "      <th>F</th>\n",
       "      <th>PR(&gt;F)</th>\n",
       "    </tr>\n",
       "  </thead>\n",
       "  <tbody>\n",
       "    <tr>\n",
       "      <th>C(Department)</th>\n",
       "      <td>3.0</td>\n",
       "      <td>2854.458333</td>\n",
       "      <td>951.486111</td>\n",
       "      <td>13.416618</td>\n",
       "      <td>2.450747e-07</td>\n",
       "    </tr>\n",
       "    <tr>\n",
       "      <th>Residual</th>\n",
       "      <td>92.0</td>\n",
       "      <td>6524.500000</td>\n",
       "      <td>70.918478</td>\n",
       "      <td>NaN</td>\n",
       "      <td>NaN</td>\n",
       "    </tr>\n",
       "  </tbody>\n",
       "</table>\n",
       "</div>"
      ],
      "text/plain": [
       "                 df       sum_sq     mean_sq          F        PR(>F)\n",
       "C(Department)   3.0  2854.458333  951.486111  13.416618  2.450747e-07\n",
       "Residual       92.0  6524.500000   70.918478        NaN           NaN"
      ]
     },
     "execution_count": 9,
     "metadata": {},
     "output_type": "execute_result"
    }
   ],
   "source": [
    "model = ols ('Productivity_Score ~ C(Department)',data=df).fit()\n",
    "annova_table = sm.stats.anova_lm(model)\n",
    "annova_table"
   ]
  },
  {
   "cell_type": "raw",
   "id": "a7358fee-89e9-4a56-a832-fd5d2a0e43f6",
   "metadata": {},
   "source": [
    "P_value is less than 0.05(significance)\n",
    "We have strong evidence to prove H1 , Hence reject H0."
   ]
  },
  {
   "cell_type": "markdown",
   "id": "4a7192d6-203b-41c9-b97d-09b4d941fcd3",
   "metadata": {},
   "source": [
    "Factor 2: Experience Level (3 levels: Junior, Mid-Level, Senior)"
   ]
  },
  {
   "cell_type": "markdown",
   "id": "d770f295-c64f-46bd-8101-b4ff381509fa",
   "metadata": {},
   "source": [
    "##### H0 - There is no significant difference in mean productivity scores between different Experience Level.\n",
    "##### H1 - There is a significant difference in mean productivity scores between different Experience Level."
   ]
  },
  {
   "cell_type": "code",
   "execution_count": 12,
   "id": "d7fad7a5-abe1-4e87-b6e8-89fb103f5b41",
   "metadata": {},
   "outputs": [
    {
     "data": {
      "text/html": [
       "<div>\n",
       "<style scoped>\n",
       "    .dataframe tbody tr th:only-of-type {\n",
       "        vertical-align: middle;\n",
       "    }\n",
       "\n",
       "    .dataframe tbody tr th {\n",
       "        vertical-align: top;\n",
       "    }\n",
       "\n",
       "    .dataframe thead th {\n",
       "        text-align: right;\n",
       "    }\n",
       "</style>\n",
       "<table border=\"1\" class=\"dataframe\">\n",
       "  <thead>\n",
       "    <tr style=\"text-align: right;\">\n",
       "      <th></th>\n",
       "      <th>df</th>\n",
       "      <th>sum_sq</th>\n",
       "      <th>mean_sq</th>\n",
       "      <th>F</th>\n",
       "      <th>PR(&gt;F)</th>\n",
       "    </tr>\n",
       "  </thead>\n",
       "  <tbody>\n",
       "    <tr>\n",
       "      <th>C(Experience_Level)</th>\n",
       "      <td>2.0</td>\n",
       "      <td>5373.895833</td>\n",
       "      <td>2686.947917</td>\n",
       "      <td>62.392573</td>\n",
       "      <td>6.548520e-18</td>\n",
       "    </tr>\n",
       "    <tr>\n",
       "      <th>Residual</th>\n",
       "      <td>93.0</td>\n",
       "      <td>4005.062500</td>\n",
       "      <td>43.065188</td>\n",
       "      <td>NaN</td>\n",
       "      <td>NaN</td>\n",
       "    </tr>\n",
       "  </tbody>\n",
       "</table>\n",
       "</div>"
      ],
      "text/plain": [
       "                       df       sum_sq      mean_sq          F        PR(>F)\n",
       "C(Experience_Level)   2.0  5373.895833  2686.947917  62.392573  6.548520e-18\n",
       "Residual             93.0  4005.062500    43.065188        NaN           NaN"
      ]
     },
     "execution_count": 12,
     "metadata": {},
     "output_type": "execute_result"
    }
   ],
   "source": [
    "model1 = ols('Productivity_Score ~ C(Experience_Level)',data=df).fit()\n",
    "annova_table1 = sm.stats.anova_lm(model1)\n",
    "annova_table1"
   ]
  },
  {
   "cell_type": "raw",
   "id": "f9898f42-39fc-4131-88c7-0a750463fb8c",
   "metadata": {},
   "source": [
    "P_value is less than 0.05(significance)\n",
    "We have strong evidence to prove H1 , Hence reject H0."
   ]
  },
  {
   "cell_type": "raw",
   "id": "9c0257d3-334c-4eb9-97d6-32f650d16dc5",
   "metadata": {},
   "source": [
    "Interaction effect among Department and Experience Level"
   ]
  },
  {
   "cell_type": "markdown",
   "id": "2cc5a37e-c50a-48e0-b698-05124236df93",
   "metadata": {},
   "source": [
    "##### H0 : There is no interaction effect between department and experience level on mean productivity scores.\n",
    "##### H1: There is an interaction effect between department and experience level on  mean productivity scores."
   ]
  },
  {
   "cell_type": "code",
   "execution_count": 15,
   "id": "f28a80ee-2d9e-4708-a92a-1b8da9d7f114",
   "metadata": {},
   "outputs": [
    {
     "data": {
      "text/html": [
       "<div>\n",
       "<style scoped>\n",
       "    .dataframe tbody tr th:only-of-type {\n",
       "        vertical-align: middle;\n",
       "    }\n",
       "\n",
       "    .dataframe tbody tr th {\n",
       "        vertical-align: top;\n",
       "    }\n",
       "\n",
       "    .dataframe thead th {\n",
       "        text-align: right;\n",
       "    }\n",
       "</style>\n",
       "<table border=\"1\" class=\"dataframe\">\n",
       "  <thead>\n",
       "    <tr style=\"text-align: right;\">\n",
       "      <th></th>\n",
       "      <th>df</th>\n",
       "      <th>sum_sq</th>\n",
       "      <th>mean_sq</th>\n",
       "      <th>F</th>\n",
       "      <th>PR(&gt;F)</th>\n",
       "    </tr>\n",
       "  </thead>\n",
       "  <tbody>\n",
       "    <tr>\n",
       "      <th>C(Department):C(Experience_Level)</th>\n",
       "      <td>11.0</td>\n",
       "      <td>8619.958333</td>\n",
       "      <td>783.632576</td>\n",
       "      <td>86.726135</td>\n",
       "      <td>4.871680e-41</td>\n",
       "    </tr>\n",
       "    <tr>\n",
       "      <th>Residual</th>\n",
       "      <td>84.0</td>\n",
       "      <td>759.000000</td>\n",
       "      <td>9.035714</td>\n",
       "      <td>NaN</td>\n",
       "      <td>NaN</td>\n",
       "    </tr>\n",
       "  </tbody>\n",
       "</table>\n",
       "</div>"
      ],
      "text/plain": [
       "                                     df       sum_sq     mean_sq          F  \\\n",
       "C(Department):C(Experience_Level)  11.0  8619.958333  783.632576  86.726135   \n",
       "Residual                           84.0   759.000000    9.035714        NaN   \n",
       "\n",
       "                                         PR(>F)  \n",
       "C(Department):C(Experience_Level)  4.871680e-41  \n",
       "Residual                                    NaN  "
      ]
     },
     "execution_count": 15,
     "metadata": {},
     "output_type": "execute_result"
    }
   ],
   "source": [
    "model2 = ols('Productivity_Score ~ C(Department):C(Experience_Level)',data=df).fit()\n",
    "annova_table3 = sm.stats.anova_lm(model2)\n",
    "annova_table3"
   ]
  },
  {
   "cell_type": "raw",
   "id": "c00385fd-d982-4f3c-a11c-2d3929e8edc9",
   "metadata": {},
   "source": [
    "P_value is less than 0.05(significance)\n",
    "We have strong evidence to prove H1 , Hence reject H0."
   ]
  },
  {
   "cell_type": "code",
   "execution_count": 62,
   "id": "21d52c87-4ca7-4789-8f37-844354cc3c6d",
   "metadata": {},
   "outputs": [
    {
     "data": {
      "text/html": [
       "<div>\n",
       "<style scoped>\n",
       "    .dataframe tbody tr th:only-of-type {\n",
       "        vertical-align: middle;\n",
       "    }\n",
       "\n",
       "    .dataframe tbody tr th {\n",
       "        vertical-align: top;\n",
       "    }\n",
       "\n",
       "    .dataframe thead th {\n",
       "        text-align: right;\n",
       "    }\n",
       "</style>\n",
       "<table border=\"1\" class=\"dataframe\">\n",
       "  <thead>\n",
       "    <tr style=\"text-align: right;\">\n",
       "      <th></th>\n",
       "      <th>df</th>\n",
       "      <th>sum_sq</th>\n",
       "      <th>mean_sq</th>\n",
       "      <th>F</th>\n",
       "      <th>PR(&gt;F)</th>\n",
       "    </tr>\n",
       "  </thead>\n",
       "  <tbody>\n",
       "    <tr>\n",
       "      <th>Department</th>\n",
       "      <td>3.0</td>\n",
       "      <td>2854.458333</td>\n",
       "      <td>951.486111</td>\n",
       "      <td>105.302811</td>\n",
       "      <td>2.266994e-28</td>\n",
       "    </tr>\n",
       "    <tr>\n",
       "      <th>Experience_Level</th>\n",
       "      <td>2.0</td>\n",
       "      <td>5373.895833</td>\n",
       "      <td>2686.947917</td>\n",
       "      <td>297.369730</td>\n",
       "      <td>7.730363e-39</td>\n",
       "    </tr>\n",
       "    <tr>\n",
       "      <th>Department:Experience_Level</th>\n",
       "      <td>6.0</td>\n",
       "      <td>391.604167</td>\n",
       "      <td>65.267361</td>\n",
       "      <td>7.223265</td>\n",
       "      <td>3.090747e-06</td>\n",
       "    </tr>\n",
       "    <tr>\n",
       "      <th>Residual</th>\n",
       "      <td>84.0</td>\n",
       "      <td>759.000000</td>\n",
       "      <td>9.035714</td>\n",
       "      <td>NaN</td>\n",
       "      <td>NaN</td>\n",
       "    </tr>\n",
       "  </tbody>\n",
       "</table>\n",
       "</div>"
      ],
      "text/plain": [
       "                               df       sum_sq      mean_sq           F  \\\n",
       "Department                    3.0  2854.458333   951.486111  105.302811   \n",
       "Experience_Level              2.0  5373.895833  2686.947917  297.369730   \n",
       "Department:Experience_Level   6.0   391.604167    65.267361    7.223265   \n",
       "Residual                     84.0   759.000000     9.035714         NaN   \n",
       "\n",
       "                                   PR(>F)  \n",
       "Department                   2.266994e-28  \n",
       "Experience_Level             7.730363e-39  \n",
       "Department:Experience_Level  3.090747e-06  \n",
       "Residual                              NaN  "
      ]
     },
     "execution_count": 62,
     "metadata": {},
     "output_type": "execute_result"
    }
   ],
   "source": [
    "model3 = ols('Productivity_Score ~ Department + Experience_Level+ Department : Experience_Level',data=df).fit()\n",
    "annova_table4 = sm.stats.anova_lm(model3)\n",
    "annova_table4"
   ]
  },
  {
   "cell_type": "markdown",
   "id": "0461adbc-5feb-4d9b-867d-4b00c89b241c",
   "metadata": {},
   "source": [
    "# Inference"
   ]
  },
  {
   "cell_type": "markdown",
   "id": "78286e4e-b91f-4712-ad9f-94a3a6ae180d",
   "metadata": {},
   "source": [
    "The difference in mean productivity scores between departments depends on the experience level.\n",
    "There is a significant difference in mean of productivity scores between different departments.\n",
    "There is a significant difference in mean productivity scores between different Experience Level.\n",
    "There is an interaction effect between department and experience level on mean productivity scores."
   ]
  },
  {
   "cell_type": "markdown",
   "id": "94e556c9-387e-4715-a5fd-141594148247",
   "metadata": {},
   "source": [
    "# Post Hoc Tests"
   ]
  },
  {
   "cell_type": "code",
   "execution_count": 46,
   "id": "5be14534-bca1-4fee-ac83-9448143a4f17",
   "metadata": {},
   "outputs": [
    {
     "name": "stdout",
     "output_type": "stream",
     "text": [
      "   Multiple Comparison of Means - Tukey HSD, FWER=0.05    \n",
      "==========================================================\n",
      "  group1    group2  meandiff p-adj   lower   upper  reject\n",
      "----------------------------------------------------------\n",
      "       HR        IT    -2.25 0.7913 -8.6111  4.1111  False\n",
      "       HR Marketing   2.9167 0.6286 -3.4444  9.2777  False\n",
      "       HR     Sales  12.0833    0.0  5.7223 18.4444   True\n",
      "       IT Marketing   5.1667 0.1528 -1.1944 11.5277  False\n",
      "       IT     Sales  14.3333    0.0  7.9723 20.6944   True\n",
      "Marketing     Sales   9.1667 0.0016  2.8056 15.5277   True\n",
      "----------------------------------------------------------\n"
     ]
    },
    {
     "data": {
      "image/png": "[encoded data removed]",
      "text/plain": [
       "<Figure size 1000x600 with 1 Axes>"
      ]
     },
     "metadata": {},
     "output_type": "display_data"
    }
   ],
   "source": [
    "from statsmodels.stats.multicomp import pairwise_tukeyhsd\n",
    "\n",
    "# Post hoc test for Diet\n",
    "tukey_diet = pairwise_tukeyhsd(df['Productivity_Score'], df['Department'], alpha=0.05)\n",
    "print(tukey_diet)\n",
    "tukey_diet.plot_simultaneous()\n",
    "plt.title('Tukey HSD Test for Productivity_Score')\n",
    "plt.show()"
   ]
  },
  {
   "cell_type": "code",
   "execution_count": 48,
   "id": "5a2b603f-576d-4686-8891-33574d0dbe5e",
   "metadata": {},
   "outputs": [
    {
     "name": "stdout",
     "output_type": "stream",
     "text": [
      "   Multiple Comparison of Means - Tukey HSD, FWER=0.05   \n",
      "=========================================================\n",
      "  group1    group2  meandiff p-adj  lower   upper  reject\n",
      "---------------------------------------------------------\n",
      "   Junior Mid-Level   9.7812   0.0  5.8736 13.6889   True\n",
      "   Junior    Senior  18.3125   0.0 14.4049 22.2201   True\n",
      "Mid-Level    Senior   8.5312   0.0  4.6236 12.4389   True\n",
      "---------------------------------------------------------\n"
     ]
    },
    {
     "data": {
      "image/png": "[encoded data removed]",
      "text/plain": [
       "<Figure size 1000x600 with 1 Axes>"
      ]
     },
     "metadata": {},
     "output_type": "display_data"
    }
   ],
   "source": [
    "from statsmodels.stats.multicomp import pairwise_tukeyhsd\n",
    "\n",
    "# Post hoc test for Diet\n",
    "tukey_diet = pairwise_tukeyhsd(df['Productivity_Score'], df['Experience_Level'], alpha=0.05)\n",
    "print(tukey_diet)\n",
    "tukey_diet.plot_simultaneous()\n",
    "plt.title('Tukey HSD Test for Productivity_Score')\n",
    "plt.show()"
   ]
  },
  {
   "cell_type": "code",
   "execution_count": 50,
   "id": "438b4aed-62af-4109-9ff4-a535d9980106",
   "metadata": {},
   "outputs": [
    {
     "name": "stdout",
     "output_type": "stream",
     "text": [
      "             Multiple Comparison of Means - Tukey HSD, FWER=0.05              \n",
      "==============================================================================\n",
      "       group1              group2       meandiff p-adj   lower   upper  reject\n",
      "------------------------------------------------------------------------------\n",
      "          HR-Junior        HR-Mid-Level     13.0    0.0   7.947  18.053   True\n",
      "          HR-Junior           HR-Senior    21.75    0.0  16.697  26.803   True\n",
      "          HR-Junior           IT-Junior      1.5 0.9974  -3.553   6.553  False\n",
      "          HR-Junior        IT-Mid-Level    6.125 0.0055   1.072  11.178   True\n",
      "          HR-Junior           IT-Senior   20.375    0.0  15.322  25.428   True\n",
      "          HR-Junior    Marketing-Junior      4.0  0.264  -1.053   9.053  False\n",
      "          HR-Junior Marketing-Mid-Level    15.75    0.0  10.697  20.803   True\n",
      "          HR-Junior    Marketing-Senior    23.75    0.0  18.697  28.803   True\n",
      "          HR-Junior        Sales-Junior   16.125    0.0  11.072  21.178   True\n",
      "          HR-Junior     Sales-Mid-Level   25.875    0.0  20.822  30.928   True\n",
      "          HR-Junior        Sales-Senior     29.0    0.0  23.947  34.053   True\n",
      "       HR-Mid-Level           HR-Senior     8.75    0.0   3.697  13.803   True\n",
      "       HR-Mid-Level           IT-Junior    -11.5    0.0 -16.553  -6.447   True\n",
      "       HR-Mid-Level        IT-Mid-Level   -6.875 0.0009 -11.928  -1.822   True\n",
      "       HR-Mid-Level           IT-Senior    7.375 0.0003   2.322  12.428   True\n",
      "       HR-Mid-Level    Marketing-Junior     -9.0    0.0 -14.053  -3.947   True\n",
      "       HR-Mid-Level Marketing-Mid-Level     2.75  0.797  -2.303   7.803  False\n",
      "       HR-Mid-Level    Marketing-Senior    10.75    0.0   5.697  15.803   True\n",
      "       HR-Mid-Level        Sales-Junior    3.125 0.6385  -1.928   8.178  False\n",
      "       HR-Mid-Level     Sales-Mid-Level   12.875    0.0   7.822  17.928   True\n",
      "       HR-Mid-Level        Sales-Senior     16.0    0.0  10.947  21.053   True\n",
      "          HR-Senior           IT-Junior   -20.25    0.0 -25.303 -15.197   True\n",
      "          HR-Senior        IT-Mid-Level  -15.625    0.0 -20.678 -10.572   True\n",
      "          HR-Senior           IT-Senior   -1.375 0.9988  -6.428   3.678  False\n",
      "          HR-Senior    Marketing-Junior   -17.75    0.0 -22.803 -12.697   True\n",
      "          HR-Senior Marketing-Mid-Level     -6.0 0.0073 -11.053  -0.947   True\n",
      "          HR-Senior    Marketing-Senior      2.0 0.9726  -3.053   7.053  False\n",
      "          HR-Senior        Sales-Junior   -5.625 0.0163 -10.678  -0.572   True\n",
      "          HR-Senior     Sales-Mid-Level    4.125 0.2236  -0.928   9.178  False\n",
      "          HR-Senior        Sales-Senior     7.25 0.0004   2.197  12.303   True\n",
      "          IT-Junior        IT-Mid-Level    4.625 0.1054  -0.428   9.678  False\n",
      "          IT-Junior           IT-Senior   18.875    0.0  13.822  23.928   True\n",
      "          IT-Junior    Marketing-Junior      2.5 0.8793  -2.553   7.553  False\n",
      "          IT-Junior Marketing-Mid-Level    14.25    0.0   9.197  19.303   True\n",
      "          IT-Junior    Marketing-Senior    22.25    0.0  17.197  27.303   True\n",
      "          IT-Junior        Sales-Junior   14.625    0.0   9.572  19.678   True\n",
      "          IT-Junior     Sales-Mid-Level   24.375    0.0  19.322  29.428   True\n",
      "          IT-Junior        Sales-Senior     27.5    0.0  22.447  32.553   True\n",
      "       IT-Mid-Level           IT-Senior    14.25    0.0   9.197  19.303   True\n",
      "       IT-Mid-Level    Marketing-Junior   -2.125 0.9576  -7.178   2.928  False\n",
      "       IT-Mid-Level Marketing-Mid-Level    9.625    0.0   4.572  14.678   True\n",
      "       IT-Mid-Level    Marketing-Senior   17.625    0.0  12.572  22.678   True\n",
      "       IT-Mid-Level        Sales-Junior     10.0    0.0   4.947  15.053   True\n",
      "       IT-Mid-Level     Sales-Mid-Level    19.75    0.0  14.697  24.803   True\n",
      "       IT-Mid-Level        Sales-Senior   22.875    0.0  17.822  27.928   True\n",
      "          IT-Senior    Marketing-Junior  -16.375    0.0 -21.428 -11.322   True\n",
      "          IT-Senior Marketing-Mid-Level   -4.625 0.1054  -9.678   0.428  False\n",
      "          IT-Senior    Marketing-Senior    3.375 0.5225  -1.678   8.428  False\n",
      "          IT-Senior        Sales-Junior    -4.25 0.1877  -9.303   0.803  False\n",
      "          IT-Senior     Sales-Mid-Level      5.5  0.021   0.447  10.553   True\n",
      "          IT-Senior        Sales-Senior    8.625    0.0   3.572  13.678   True\n",
      "   Marketing-Junior Marketing-Mid-Level    11.75    0.0   6.697  16.803   True\n",
      "   Marketing-Junior    Marketing-Senior    19.75    0.0  14.697  24.803   True\n",
      "   Marketing-Junior        Sales-Junior   12.125    0.0   7.072  17.178   True\n",
      "   Marketing-Junior     Sales-Mid-Level   21.875    0.0  16.822  26.928   True\n",
      "   Marketing-Junior        Sales-Senior     25.0    0.0  19.947  30.053   True\n",
      "Marketing-Mid-Level    Marketing-Senior      8.0 0.0001   2.947  13.053   True\n",
      "Marketing-Mid-Level        Sales-Junior    0.375    1.0  -4.678   5.428  False\n",
      "Marketing-Mid-Level     Sales-Mid-Level   10.125    0.0   5.072  15.178   True\n",
      "Marketing-Mid-Level        Sales-Senior    13.25    0.0   8.197  18.303   True\n",
      "   Marketing-Senior        Sales-Junior   -7.625 0.0001 -12.678  -2.572   True\n",
      "   Marketing-Senior     Sales-Mid-Level    2.125 0.9576  -2.928   7.178  False\n",
      "   Marketing-Senior        Sales-Senior     5.25 0.0345   0.197  10.303   True\n",
      "       Sales-Junior     Sales-Mid-Level     9.75    0.0   4.697  14.803   True\n",
      "       Sales-Junior        Sales-Senior   12.875    0.0   7.822  17.928   True\n",
      "    Sales-Mid-Level        Sales-Senior    3.125 0.6385  -1.928   8.178  False\n",
      "------------------------------------------------------------------------------\n"
     ]
    },
    {
     "data": {
      "image/png": "[encoded data removed]",
      "text/plain": [
       "<Figure size 1000x600 with 1 Axes>"
      ]
     },
     "metadata": {},
     "output_type": "display_data"
    }
   ],
   "source": [
    "df['Group'] = df['Department'] + '-' + df['Experience_Level']\n",
    "tukey_interaction = pairwise_tukeyhsd(df['Productivity_Score'], df['Group'], alpha=0.05)\n",
    "print(tukey_interaction)\n",
    "tukey_interaction.plot_simultaneous()\n",
    "plt.title('Tukey HSD Test for Interaction (Department and Experience_Level)')\n",
    "plt.show()"
   ]
  },
  {
   "cell_type": "markdown",
   "id": "14544248-b815-4a73-af6b-e83d577809cb",
   "metadata": {},
   "source": [
    "# INFERENCE AFTER POST HOC TEST"
   ]
  },
  {
   "cell_type": "raw",
   "id": "32a62f0e-2927-42c6-af2e-9f73a54fef01",
   "metadata": {},
   "source": [
    "Key Business Takeaways:\n",
    "\n",
    "1.Sales is the highest-performing department across all experience levels, particularly at the senior level,\n",
    "which might indicate that Sales seniority and experience correlate more strongly with performance.\n",
    "\n",
    "2.Marketing and HR show a clear performance gap between senior and junior employees, \n",
    "especially in HR, suggesting that experience plays a significant role in these departments.\n",
    "\n",
    "3.IT employees generally perform lower across all experience levels compared to other departments.\n",
    "This could suggest a need for improved training or resources in the IT department to boost productivity.\n",
    "    \n",
    "4.Junior employees in IT and HR show the lowest productivity scores. \n",
    "There may be a need to focus on onboarding, training, or mentoring programs to help develop junior talent in these areas."
   ]
  },
  {
   "cell_type": "raw",
   "id": "62d7e2a2-1b24-4a6c-a126-7626d7f901d4",
   "metadata": {},
   "source": [
    "Few Suggestions to the company:\n",
    "\n",
    "1.Junior Employees: Invest in targeted training, mentorship, and onboarding.\n",
    "\n",
    "2.Mid-Level Employees: Provide advanced skills training and leadership development.\n",
    "\n",
    "3.Cross-Departmental Learning: Share high-performing strategies across departments.\n",
    "\n",
    "4.Incentives: Implement productivity-based incentives and reward systems.\n",
    "\n",
    "5.Tools & Technology: Ensure departments like IT have the latest tools and software.\n",
    "\n",
    "6.Continuous Feedback: Create a culture of feedback and regular performance reviews.\n",
    "\n",
    "7.Work-Life Balance: Introduce wellness programs to prevent burnout.\n",
    "\n",
    "8.Monitor: Continuously monitor productivity and adjust strategies accordingly."
   ]
  }
 ],
 "metadata": {
  "kernelspec": {
   "display_name": "Python 3 (ipykernel)",
   "language": "python",
   "name": "python3"
  },
  "language_info": {
   "codemirror_mode": {
    "name": "ipython",
    "version": 3
   },
   "file_extension": ".py",
   "mimetype": "text/x-python",
   "name": "python",
   "nbconvert_exporter": "python",
   "pygments_lexer": "ipython3",
   "version": "3.12.4"
  }
 },
 "nbformat": 4,
 "nbformat_minor": 5
}
